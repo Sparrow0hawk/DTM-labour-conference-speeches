{
 "cells": [
  {
   "cell_type": "markdown",
   "metadata": {},
   "source": [
    "# Preliminary LDA\n",
    "\n",
    "Preliminary LDA looking at topic numbers"
   ]
  },
  {
   "cell_type": "code",
   "execution_count": 1,
   "metadata": {},
   "outputs": [
    {
     "name": "stdout",
     "output_type": "stream",
     "text": [
      "[nltk_data] Downloading package stopwords to\n",
      "[nltk_data]     C:\\Users\\medacola\\AppData\\Roaming\\nltk_data...\n",
      "[nltk_data]   Package stopwords is already up-to-date!\n",
      "[nltk_data] Downloading package wordnet to\n",
      "[nltk_data]     C:\\Users\\medacola\\AppData\\Roaming\\nltk_data...\n",
      "[nltk_data]   Package wordnet is already up-to-date!\n"
     ]
    },
    {
     "name": "stderr",
     "output_type": "stream",
     "text": [
      "C:\\Users\\medacola\\AppData\\Local\\Continuum\\anaconda3\\envs\\topicmodel1\\lib\\site-packages\\gensim\\utils.py:1209: UserWarning: detected Windows; aliasing chunkize to chunkize_serial\n",
      "  warnings.warn(\"detected Windows; aliasing chunkize to chunkize_serial\")\n"
     ]
    }
   ],
   "source": [
    "# import modules\n",
    "import numpy as np\n",
    "from time import time\n",
    "import pandas as pd\n",
    "import nltk\n",
    "nltk.download('stopwords')\n",
    "nltk.download('wordnet')\n",
    "from nltk.corpus import stopwords\n",
    "from nltk.stem.wordnet import WordNetLemmatizer\n",
    "import gensim\n",
    "import re\n",
    "import matplotlib.pyplot as plt\n",
    "\n",
    "% matplotlib inline"
   ]
  },
  {
   "cell_type": "code",
   "execution_count": 2,
   "metadata": {},
   "outputs": [
    {
     "name": "stdout",
     "output_type": "stream",
     "text": [
      "Data loaded in 0.2041325569152832 seconds.\n"
     ]
    },
    {
     "data": {
      "text/html": [
       "<div>\n",
       "<style scoped>\n",
       "    .dataframe tbody tr th:only-of-type {\n",
       "        vertical-align: middle;\n",
       "    }\n",
       "\n",
       "    .dataframe tbody tr th {\n",
       "        vertical-align: top;\n",
       "    }\n",
       "\n",
       "    .dataframe thead th {\n",
       "        text-align: right;\n",
       "    }\n",
       "</style>\n",
       "<table border=\"1\" class=\"dataframe\">\n",
       "  <thead>\n",
       "    <tr style=\"text-align: right;\">\n",
       "      <th></th>\n",
       "      <th>Sent_id</th>\n",
       "      <th>Tokens</th>\n",
       "      <th>Speech</th>\n",
       "      <th>Paragraph</th>\n",
       "      <th>Year</th>\n",
       "    </tr>\n",
       "  </thead>\n",
       "  <tbody>\n",
       "    <tr>\n",
       "      <th>0</th>\n",
       "      <td>1</td>\n",
       "      <td>[meet, week, united, party, advancing, every, ...</td>\n",
       "      <td>Leader's speech, Brighton 2017</td>\n",
       "      <td>We meet here this week as a united Party, adva...</td>\n",
       "      <td>2017</td>\n",
       "    </tr>\n",
       "    <tr>\n",
       "      <th>1</th>\n",
       "      <td>2</td>\n",
       "      <td>[privilege, speaking, brighton, city, long, hi...</td>\n",
       "      <td>Leader's speech, Brighton 2017</td>\n",
       "      <td>And it’s a privilege to be speaking in Bright...</td>\n",
       "      <td>2017</td>\n",
       "    </tr>\n",
       "    <tr>\n",
       "      <th>2</th>\n",
       "      <td>3</td>\n",
       "      <td>[century, ago, brighton, teenage, shop, worker...</td>\n",
       "      <td>Leader's speech, Brighton 2017</td>\n",
       "      <td>It was over a century ago, here in Brighton, ...</td>\n",
       "      <td>2017</td>\n",
       "    </tr>\n",
       "    <tr>\n",
       "      <th>3</th>\n",
       "      <td>4</td>\n",
       "      <td>[role, seconded, historic, resolution, trades,...</td>\n",
       "      <td>Leader's speech, Brighton 2017</td>\n",
       "      <td>In that role she seconded the historic resolu...</td>\n",
       "      <td>2017</td>\n",
       "    </tr>\n",
       "    <tr>\n",
       "      <th>4</th>\n",
       "      <td>5</td>\n",
       "      <td>[became, labour, party, woman, margaret, bondf...</td>\n",
       "      <td>Leader's speech, Brighton 2017</td>\n",
       "      <td>That became the Labour Party  and it was this...</td>\n",
       "      <td>2017</td>\n",
       "    </tr>\n",
       "  </tbody>\n",
       "</table>\n",
       "</div>"
      ],
      "text/plain": [
       "   Sent_id                                             Tokens  \\\n",
       "0        1  [meet, week, united, party, advancing, every, ...   \n",
       "1        2  [privilege, speaking, brighton, city, long, hi...   \n",
       "2        3  [century, ago, brighton, teenage, shop, worker...   \n",
       "3        4  [role, seconded, historic, resolution, trades,...   \n",
       "4        5  [became, labour, party, woman, margaret, bondf...   \n",
       "\n",
       "                           Speech  \\\n",
       "0  Leader's speech, Brighton 2017   \n",
       "1  Leader's speech, Brighton 2017   \n",
       "2  Leader's speech, Brighton 2017   \n",
       "3  Leader's speech, Brighton 2017   \n",
       "4  Leader's speech, Brighton 2017   \n",
       "\n",
       "                                           Paragraph  Year  \n",
       "0  We meet here this week as a united Party, adva...  2017  \n",
       "1   And it’s a privilege to be speaking in Bright...  2017  \n",
       "2   It was over a century ago, here in Brighton, ...  2017  \n",
       "3   In that role she seconded the historic resolu...  2017  \n",
       "4   That became the Labour Party  and it was this...  2017  "
      ]
     },
     "execution_count": 2,
     "metadata": {},
     "output_type": "execute_result"
    }
   ],
   "source": [
    "# import data\n",
    "t0 = time()\n",
    "df = pd.read_pickle('labour_speeches_para_corpus.pkl')\n",
    "\n",
    "print('Data loaded in %s seconds.' % str(time()-t0))\n",
    "\n",
    "# show data to check\n",
    "df.head()"
   ]
  },
  {
   "cell_type": "code",
   "execution_count": 3,
   "metadata": {},
   "outputs": [],
   "source": [
    "time_slices = df['Year'].value_counts().values.tolist()"
   ]
  },
  {
   "cell_type": "code",
   "execution_count": 4,
   "metadata": {},
   "outputs": [],
   "source": [
    "# extract tokens as list\n",
    "words = df['Tokens'].values"
   ]
  },
  {
   "cell_type": "code",
   "execution_count": 5,
   "metadata": {},
   "outputs": [
    {
     "name": "stdout",
     "output_type": "stream",
     "text": [
      "Number of unique words in initital documents: 14874\n",
      "Number of unique words after removing rare and common words: 4643\n",
      "Token reduction of: 68.78445609788893%\n"
     ]
    }
   ],
   "source": [
    "from gensim.corpora import Dictionary\n",
    "\n",
    "# Create a dictionary representation of the documents.\n",
    "# gensim Dictionary function creates tokens -> tokenID dict\n",
    "dictionary = Dictionary(words)\n",
    "print('Number of unique words in initital documents:', len(dictionary))\n",
    "\n",
    "org_dict = len(dictionary)\n",
    "\n",
    "# Filter out words that occur less than 10 documents, or more than 70% of the documents.\n",
    "dictionary.filter_extremes(no_below=5, no_above=0.7)\n",
    "print('Number of unique words after removing rare and common words:', len(dictionary))\n",
    "\n",
    "filt_dict = len(dictionary)\n",
    "\n",
    "print('Token reduction of: ' + str((1-filt_dict/org_dict)*100)+'%')"
   ]
  },
  {
   "cell_type": "code",
   "execution_count": 6,
   "metadata": {},
   "outputs": [
    {
     "name": "stdout",
     "output_type": "stream",
     "text": [
      "Number of unique tokens: 4643\n",
      "Number of documents: 7195\n"
     ]
    }
   ],
   "source": [
    "# transform to bag of words\n",
    "corpus = [dictionary.doc2bow(doc) for doc in words]\n",
    "print('Number of unique tokens: %d' % len(dictionary))\n",
    "print('Number of documents: %d' % len(corpus))"
   ]
  },
  {
   "cell_type": "code",
   "execution_count": 7,
   "metadata": {},
   "outputs": [
    {
     "name": "stdout",
     "output_type": "stream",
     "text": [
      "united 1\n",
      "tories 1\n",
      "ready 1\n",
      "certainly 1\n",
      "clearly 1\n"
     ]
    }
   ],
   "source": [
    "doc = corpus[9]\n",
    "bow_doc = sorted(doc, key=lambda w: w[1], reverse=True)\n",
    "# Print the top 5 words of the document alongside the count\n",
    "for word_id, word_count in bow_doc[:5]:\n",
    "    print(dictionary.get(word_id), word_count)"
   ]
  },
  {
   "cell_type": "code",
   "execution_count": 8,
   "metadata": {},
   "outputs": [
    {
     "name": "stdout",
     "output_type": "stream",
     "text": [
      "Average length: 54.52314107018763 words.\n"
     ]
    },
    {
     "data": {
      "image/png": "[encoded data removed]",
      "text/plain": [
       "<Figure size 432x288 with 1 Axes>"
      ]
     },
     "metadata": {
      "needs_background": "light"
     },
     "output_type": "display_data"
    }
   ],
   "source": [
    "# word per sentence\n",
    "len_art = [len(x.split(' ')) for x in df['Paragraph']]\n",
    "\n",
    "%matplotlib inline\n",
    "x = np.array(len_art)\n",
    "plt.hist(x, density=True, bins=500)\n",
    "plt.ylabel('Probability');\n",
    "\n",
    "print('Average length: '+ str(np.mean(len_art))+' words.')"
   ]
  },
  {
   "cell_type": "markdown",
   "metadata": {},
   "source": [
    "## Lets do DTM"
   ]
  },
  {
   "cell_type": "code",
   "execution_count": 15,
   "metadata": {},
   "outputs": [],
   "source": [
    "# you can also copy the path down directly. Change this variable to your DTM executable before running.\n",
    "dtm_path = \"C:/dtm/dtm-win64.exe\""
   ]
  },
  {
   "cell_type": "code",
   "execution_count": 16,
   "metadata": {},
   "outputs": [
    {
     "name": "stdout",
     "output_type": "stream",
     "text": [
      "Model fit completed in 1189.5190694332123 seconds.\n"
     ]
    }
   ],
   "source": [
    "# takes a while to run just for num_topics = 2\n",
    "from gensim.models.wrappers.dtmmodel import DtmModel\n",
    "\n",
    "t0 = time()\n",
    "\n",
    "model = DtmModel(dtm_path, corpus, time_slices, num_topics=2,\n",
    "                 id2word=dictionary, initialize_lda=True)\n",
    "\n",
    "print('Model fit completed in %s seconds.' % str(time()-t0))"
   ]
  },
  {
   "cell_type": "markdown",
   "metadata": {},
   "source": [
    "### Save the model"
   ]
  },
  {
   "cell_type": "code",
   "execution_count": 17,
   "metadata": {},
   "outputs": [],
   "source": [
    "# save the model for future tinkering\n",
    "\n",
    "model.save('dtm_lab_speeches')"
   ]
  },
  {
   "cell_type": "markdown",
   "metadata": {},
   "source": [
    "### Load the topic model"
   ]
  },
  {
   "cell_type": "code",
   "execution_count": 9,
   "metadata": {},
   "outputs": [],
   "source": [
    "model = gensim.models.wrappers.dtmmodel.DtmModel.load('dtm_lab_speeches')"
   ]
  },
  {
   "cell_type": "markdown",
   "metadata": {},
   "source": [
    "### Lets see how the topics are separated"
   ]
  },
  {
   "cell_type": "code",
   "execution_count": 10,
   "metadata": {},
   "outputs": [
    {
     "name": "stdout",
     "output_type": "stream",
     "text": [
      "0.014*party + 0.013*labour\n",
      "0.019*people + 0.013*britain\n",
      "0.014*party + 0.013*people\n",
      "0.019*people + 0.013*britain\n",
      "0.014*party + 0.013*people\n",
      "0.018*people + 0.012*britain\n",
      "0.013*party + 0.013*people\n",
      "0.017*people + 0.012*britain\n",
      "0.013*party + 0.012*people\n",
      "0.016*people + 0.012*new\n"
     ]
    },
    {
     "name": "stderr",
     "output_type": "stream",
     "text": [
      "C:\\Users\\medacola\\AppData\\Local\\Continuum\\anaconda3\\envs\\topicmodel1\\lib\\site-packages\\gensim\\models\\wrappers\\dtmmodel.py:529: UserWarning: The parameter `num_words` is deprecated, will be removed in 4.0.0, use `topn` instead.\n",
      "  warnings.warn(\"The parameter `num_words` is deprecated, will be removed in 4.0.0, use `topn` instead.\")\n"
     ]
    }
   ],
   "source": [
    "topics = model.print_topics(num_words=2)\n",
    "for topic in topics:\n",
    "    print(topic)"
   ]
  },
  {
   "cell_type": "code",
   "execution_count": 11,
   "metadata": {},
   "outputs": [
    {
     "name": "stderr",
     "output_type": "stream",
     "text": [
      "C:\\Users\\medacola\\AppData\\Local\\Continuum\\anaconda3\\envs\\topicmodel1\\lib\\site-packages\\pyLDAvis\\_prepare.py:257: FutureWarning: Sorting because non-concatenation axis is not aligned. A future version\n",
      "of pandas will change to not sort by default.\n",
      "\n",
      "To accept the future behavior, pass 'sort=False'.\n",
      "\n",
      "To retain the current behavior and silence the warning, pass 'sort=True'.\n",
      "\n",
      "  return pd.concat([default_term_info] + list(topic_dfs))\n"
     ]
    },
    {
     "data": {
      "text/html": [
       "\n",
       "<link rel=\"stylesheet\" type=\"text/css\" href=\"https://cdn.rawgit.com/bmabey/pyLDAvis/files/ldavis.v1.0.0.css\">\n",
       "\n",
       "\n",
       "<div id=\"ldavis_el772819930137578966407354985\"></div>\n",
       "<script type=\"text/javascript\">\n",
       "\n",
       "var ldavis_el772819930137578966407354985_data = {\"mdsDat\": {\"x\": [0.08637352363413409, -0.08637352363413409], \"y\": [0.0, 0.0], \"topics\": [1, 2], \"cluster\": [1, 1], \"Freq\": [50.629026826743285, 49.37097317325672]}, \"tinfo\": {\"Category\": [\"Default\", \"Default\", \"Default\", \"Default\", \"Default\", \"Default\", \"Default\", \"Default\", \"Default\", \"Default\", \"Default\", \"Default\", \"Default\", \"Default\", \"Default\", \"Default\", \"Default\", \"Default\", \"Default\", \"Default\", \"Default\", \"Default\", \"Default\", \"Default\", \"Default\", \"Default\", \"Default\", \"Default\", \"Default\", \"Default\", \"Topic1\", \"Topic1\", \"Topic1\", \"Topic1\", \"Topic1\", \"Topic1\", \"Topic1\", \"Topic1\", \"Topic1\", \"Topic1\", \"Topic1\", \"Topic1\", \"Topic1\", \"Topic1\", \"Topic1\", \"Topic1\", \"Topic1\", \"Topic1\", \"Topic1\", \"Topic1\", \"Topic1\", \"Topic1\", \"Topic1\", \"Topic1\", \"Topic1\", \"Topic1\", \"Topic1\", \"Topic1\", \"Topic1\", \"Topic1\", \"Topic1\", \"Topic1\", \"Topic1\", \"Topic1\", \"Topic1\", \"Topic1\", \"Topic1\", \"Topic1\", \"Topic1\", \"Topic1\", \"Topic1\", \"Topic1\", \"Topic1\", \"Topic1\", \"Topic1\", \"Topic1\", \"Topic1\", \"Topic1\", \"Topic1\", \"Topic1\", \"Topic1\", \"Topic1\", \"Topic1\", \"Topic1\", \"Topic1\", \"Topic1\", \"Topic1\", \"Topic1\", \"Topic1\", \"Topic1\", \"Topic1\", \"Topic1\", \"Topic1\", \"Topic1\", \"Topic1\", \"Topic1\", \"Topic1\", \"Topic1\", \"Topic1\", \"Topic2\", \"Topic2\", \"Topic2\", \"Topic2\", \"Topic2\", \"Topic2\", \"Topic2\", \"Topic2\", \"Topic2\", \"Topic2\", \"Topic2\", \"Topic2\", \"Topic2\", \"Topic2\", \"Topic2\", \"Topic2\", \"Topic2\", \"Topic2\", \"Topic2\", \"Topic2\", \"Topic2\", \"Topic2\", \"Topic2\", \"Topic2\", \"Topic2\", \"Topic2\", \"Topic2\", \"Topic2\", \"Topic2\", \"Topic2\", \"Topic2\", \"Topic2\", \"Topic2\", \"Topic2\", \"Topic2\", \"Topic2\", \"Topic2\", \"Topic2\", \"Topic2\", \"Topic2\", \"Topic2\", \"Topic2\", \"Topic2\", \"Topic2\", \"Topic2\", \"Topic2\", \"Topic2\", \"Topic2\", \"Topic2\", \"Topic2\", \"Topic2\", \"Topic2\", \"Topic2\", \"Topic2\", \"Topic2\", \"Topic2\", \"Topic2\", \"Topic2\", \"Topic2\", \"Topic2\", \"Topic2\", \"Topic2\", \"Topic2\", \"Topic2\", \"Topic2\", \"Topic2\", \"Topic2\", \"Topic2\", \"Topic2\"], \"Freq\": [1269.0, 446.0, 345.0, 412.0, 301.0, 537.0, 282.0, 263.0, 512.0, 266.0, 310.0, 222.0, 218.0, 250.0, 203.0, 209.0, 266.0, 238.0, 243.0, 217.0, 183.0, 236.0, 370.0, 174.0, 204.0, 171.0, 866.0, 216.0, 173.0, 1325.0, 281.2984319885232, 262.719126584145, 207.96551134040547, 182.41486170399278, 172.69994919728217, 143.0766969109594, 108.52381981874464, 104.20697187173042, 99.25667548754615, 87.36537546151061, 85.51999649228733, 85.35371643323118, 80.8918540433664, 75.59554964494484, 75.50984996379077, 75.45269214213621, 74.46933689677768, 73.65194125610586, 73.08563967576661, 66.72718199499383, 261.26511129870545, 65.49482227871043, 65.40805918879452, 64.1917127924316, 62.68102698300758, 60.72039729425803, 244.9449433807602, 56.722968644811516, 56.176100458057434, 55.453200163787955, 199.23685373929422, 431.12020817209697, 208.60683435595863, 254.77748366031636, 161.00114744706417, 169.15562422465007, 484.1720603595828, 201.11832683674248, 1051.2430851681315, 168.20754241504548, 218.60396679285546, 182.74166533081737, 125.65857429379362, 155.4119466432631, 973.1620451202349, 483.81082259761723, 582.1438087446913, 408.8884543197615, 183.28045724351637, 480.265211685108, 345.9721432534187, 274.87968735355537, 464.13186295683886, 296.156512171921, 281.35732748019535, 954.4743419984363, 559.1047524125402, 265.5220058838972, 445.3669256967122, 312.076861500801, 504.5955211710293, 545.9717596773893, 284.1612362602156, 324.24344743013444, 270.29262945739816, 414.0098634735672, 296.1893551516015, 264.9244308300072, 271.62748361840215, 344.03793021995403, 299.9682826148252, 221.52640644376373, 217.00897674010366, 201.89658637561655, 172.92243390347718, 170.58088118419772, 145.15776367296536, 134.08660107405143, 122.08299655441711, 117.654566302431, 102.50478095454942, 97.45824854147362, 93.21872774410845, 81.4800817303165, 81.12609150078858, 76.40108705047305, 75.26852805331573, 69.36054780682572, 66.92773504972753, 66.28362626212866, 66.04444214309858, 64.70123965754334, 64.57590493375176, 62.303361421370674, 61.39082569448831, 60.64368439677543, 59.88854314863391, 59.53772417122401, 58.92231562361135, 398.1016977812143, 210.81841680346668, 229.16835591766124, 232.6069669135476, 293.0820699903127, 223.87371390275777, 176.015321055427, 176.95468441923924, 443.6608714332342, 123.4102707319912, 321.40511806682287, 198.14318927892063, 174.11149385623887, 640.4303077435017, 911.6448165187478, 187.7357857089433, 1409.155696876263, 372.41973039968525, 247.65796908024242, 474.05554950417724, 854.9015145124908, 399.05223050432284, 632.4839874513498, 429.5661732493037, 422.60818318636956, 312.86024622985667, 525.1793194820925, 323.12951845696534, 286.5592040502174, 542.9224514840191, 393.12225149743784, 322.6994711063141, 282.8063638372196, 257.6808119237829, 309.28515888442513, 270.29739414574567, 266.6117435360316, 254.5380339941186, 254.70025739813235], \"Term\": [\"party\", \"election\", \"values\", \"economy\", \"nhs\", \"said\", \"conference\", \"minister\", \"need\", \"thank\", \"young\", \"families\", \"school\", \"leader\", \"children\", \"prime\", \"leadership\", \"services\", \"care\", \"education\", \"prime_minister\", \"society\", \"public\", \"schools\", \"david\", \"investment\", \"new\", \"united\", \"cameron\", \"britain\", \"conference\", \"minister\", \"prime\", \"prime_minister\", \"cameron\", \"union\", \"scotland\", \"david_cameron\", \"general\", \"speech\", \"happened\", \"america\", \"terrorism\", \"northern\", \"unions\", \"wales\", \"iraq\", \"cabinet\", \"elections\", \"east\", \"thank\", \"ireland\", \"south\", \"mr\", \"general_election\", \"secretary\", \"leader\", \"afghanistan\", \"trade_unions\", \"shadow\", \"david\", \"election\", \"united\", \"leadership\", \"remember\", \"campaign\", \"said\", \"war\", \"party\", \"trade\", \"europe\", \"crisis\", \"members\", \"months\", \"labour\", \"know\", \"us\", \"years\", \"ago\", \"let\", \"would\", \"last\", \"say\", \"like\", \"think\", \"people\", \"one\", \"tell\", \"want\", \"believe\", \"government\", \"country\", \"never\", \"way\", \"great\", \"britain\", \"time\", \"british\", \"work\", \"values\", \"nhs\", \"families\", \"school\", \"children\", \"schools\", \"investment\", \"parents\", \"businesses\", \"justice\", \"child\", \"homes\", \"private\", \"global\", \"afford\", \"public_services\", \"companies\", \"sector\", \"rules\", \"environment\", \"welfare\", \"benefits\", \"fairness\", \"university\", \"st_century\", \"talents\", \"nurses\", \"billion\", \"teachers\", \"training\", \"economy\", \"education\", \"services\", \"care\", \"young\", \"society\", \"business\", \"service\", \"need\", \"communities\", \"public\", \"generation\", \"health\", \"new\", \"britain\", \"jobs\", \"people\", \"future\", \"working\", \"every\", \"country\", \"make\", \"government\", \"change\", \"work\", \"together\", \"one\", \"world\", \"must\", \"labour\", \"want\", \"time\", \"right\", \"get\", \"us\", \"year\", \"say\", \"way\", \"let\"], \"Total\": [1269.0, 446.0, 345.0, 412.0, 301.0, 537.0, 282.0, 263.0, 512.0, 266.0, 310.0, 222.0, 218.0, 250.0, 203.0, 209.0, 266.0, 238.0, 243.0, 217.0, 183.0, 236.0, 370.0, 174.0, 204.0, 171.0, 866.0, 216.0, 173.0, 1325.0, 282.5508661041944, 263.9715606998162, 209.21794545607673, 183.66729581966405, 173.95238331295343, 144.32913102663068, 109.77625393441589, 105.45940598740167, 100.5091096032174, 88.61780957718186, 86.77243060795858, 86.60615054890243, 82.14428815903764, 76.84798376061609, 76.76228407946202, 76.70512625780746, 75.72177101244893, 74.9043753717771, 74.33807379143786, 67.97961611066508, 266.26065096432995, 66.74725639438168, 66.66049330446577, 65.44414690810285, 63.93346109867883, 61.972831409929285, 250.21948476489038, 57.97540276048277, 57.42853457372869, 56.70563427945921, 204.241674213757, 446.5804143317546, 216.89599616795888, 266.29523601822115, 170.0978378744196, 179.3940282366812, 537.0545582829628, 217.50826785230123, 1269.1588915210825, 185.21501885480438, 249.01875041811627, 208.0309323072544, 136.99018302784097, 176.15762312669273, 1516.0844966042541, 699.734468621107, 891.4289676291164, 580.9718920909611, 219.3045853457223, 734.9654690832404, 489.2879015686267, 367.3030093655345, 730.7436064928704, 412.49941067557546, 390.6985260851096, 2363.6300388746995, 1084.2840718946327, 363.61749555663823, 838.48917719415, 482.44747915083235, 1137.079508622379, 1400.8732741898802, 417.47323897238516, 578.781481424253, 408.54957677358937, 1325.6546799923149, 618.8888262579155, 486.12363023822684, 694.2356668047717, 345.2732074622945, 301.2035598571657, 222.76168368610425, 218.24425398244418, 203.13186361795707, 174.1577111458177, 171.81615842653824, 146.39304091530587, 135.32187831639195, 123.31827379675761, 118.8898435447715, 103.74005819688992, 98.69352578381412, 94.45400498644895, 82.715358972657, 82.36136874312908, 77.63636429281355, 76.50380529565624, 70.59582504916622, 68.16301229206803, 67.51890350446917, 67.27971938543908, 65.93651689988384, 65.81118217609226, 63.53863866371118, 62.62610293682882, 61.878961639115936, 61.123820390974416, 60.77300141356452, 60.157592865951855, 412.2248253058036, 217.39284472503167, 238.49046197967394, 243.0290705465282, 310.31844189746045, 236.9637677876444, 190.067393000044, 191.72597345430938, 512.6451452680567, 131.57092201959597, 370.8182613770611, 221.4969071222731, 192.8063379484358, 866.437829093865, 1325.6546799923149, 216.53551877089896, 2363.6300388746995, 487.2639107297101, 302.099821777359, 667.1248880084174, 1400.8732741898802, 583.5310016462785, 1137.079508622379, 673.4386876711895, 694.2356668047717, 471.0176848928869, 1084.2840718946327, 543.6639117811699, 447.00017758822105, 1516.0844966042541, 838.48917719415, 618.8888262579155, 481.46396096649954, 414.05346370301095, 891.4289676291164, 514.2734983034668, 730.7436064928704, 578.781481424253, 734.9654690832404], \"loglift\": [30.0, 29.0, 28.0, 27.0, 26.0, 25.0, 24.0, 23.0, 22.0, 21.0, 20.0, 19.0, 18.0, 17.0, 16.0, 15.0, 14.0, 13.0, 12.0, 11.0, 10.0, 9.0, 8.0, 7.0, 6.0, 5.0, 4.0, 3.0, 2.0, 1.0, 0.6762, 0.6759, 0.6746, 0.6738, 0.6734, 0.6719, 0.6692, 0.6687, 0.6681, 0.6664, 0.6661, 0.6661, 0.6653, 0.6642, 0.6642, 0.6642, 0.664, 0.6638, 0.6637, 0.662, 0.6617, 0.6617, 0.6617, 0.6613, 0.6609, 0.6602, 0.6593, 0.6588, 0.6586, 0.6583, 0.6558, 0.6454, 0.6417, 0.6364, 0.6257, 0.6219, 0.577, 0.6023, 0.4923, 0.5843, 0.5504, 0.551, 0.5943, 0.5553, 0.2373, 0.3116, 0.2545, 0.3294, 0.5012, 0.2552, 0.3341, 0.3908, 0.2268, 0.3493, 0.3523, -0.2261, 0.0183, 0.3662, 0.0479, 0.245, -0.1318, -0.2616, 0.296, 0.1012, 0.2675, -0.4831, -0.0563, 0.0736, -0.2577, 0.7022, 0.7017, 0.7002, 0.7001, 0.6997, 0.6987, 0.6986, 0.6973, 0.6966, 0.6957, 0.6954, 0.6938, 0.6932, 0.6926, 0.6908, 0.6907, 0.6898, 0.6895, 0.6882, 0.6875, 0.6873, 0.6873, 0.6869, 0.6869, 0.6862, 0.6859, 0.6856, 0.6854, 0.6853, 0.6851, 0.6709, 0.6751, 0.6659, 0.662, 0.6487, 0.649, 0.629, 0.6256, 0.5613, 0.6418, 0.5628, 0.5944, 0.6038, 0.4036, 0.3314, 0.5631, 0.1886, 0.437, 0.5071, 0.3642, 0.2119, 0.3258, 0.1192, 0.2562, 0.2094, 0.2967, -0.0191, 0.1855, 0.2612, -0.3211, -0.0517, 0.0546, 0.1737, 0.2315, -0.3528, 0.0626, -0.3025, -0.1157, -0.3539], \"logprob\": [30.0, 29.0, 28.0, 27.0, 26.0, 25.0, 24.0, 23.0, 22.0, 21.0, 20.0, 19.0, 18.0, 17.0, 16.0, 15.0, 14.0, 13.0, 12.0, 11.0, 10.0, 9.0, 8.0, 7.0, 6.0, 5.0, 4.0, 3.0, 2.0, 1.0, -5.5796, -5.6479, -5.8816, -6.0127, -6.0674, -6.2556, -6.532, -6.5726, -6.6213, -6.7489, -6.7702, -6.7722, -6.8259, -6.8936, -6.8947, -6.8955, -6.9086, -6.9196, -6.9273, -7.0184, -5.6534, -7.037, -7.0383, -7.0571, -7.0809, -7.1127, -5.7179, -7.1808, -7.1905, -7.2034, -5.9245, -5.1526, -5.8785, -5.6786, -6.1376, -6.0882, -5.0365, -5.9151, -4.2612, -6.0938, -5.8317, -6.0109, -6.3854, -6.1729, -4.3384, -5.0373, -4.8523, -5.2055, -6.008, -5.0446, -5.3726, -5.6026, -5.0788, -5.5281, -5.5794, -4.3578, -4.8926, -5.6373, -5.1201, -5.4757, -4.9952, -4.9164, -5.5694, -5.4375, -5.6195, -5.1931, -5.528, -5.6395, -5.6145, -5.3531, -5.4901, -5.7933, -5.8139, -5.8861, -6.041, -6.0546, -6.216, -6.2953, -6.3891, -6.4261, -6.5639, -6.6144, -6.6589, -6.7935, -6.7978, -6.8578, -6.8728, -6.9545, -6.9902, -6.9999, -7.0035, -7.024, -7.026, -7.0618, -7.0766, -7.0888, -7.1013, -7.1072, -7.1176, -5.2071, -5.8428, -5.7594, -5.7445, -5.5134, -5.7827, -6.0232, -6.0179, -5.0988, -6.3783, -5.4211, -5.9048, -6.0341, -4.7317, -4.3786, -5.9588, -3.9431, -5.2738, -5.6818, -5.0325, -4.4428, -5.2047, -4.7442, -5.131, -5.1474, -5.4481, -4.9301, -5.4158, -5.5359, -4.8968, -5.2197, -5.4171, -5.5491, -5.6421, -5.4596, -5.5943, -5.608, -5.6544, -5.6537]}, \"token.table\": {\"Topic\": [1, 2, 1, 2, 1, 2, 1, 2, 1, 2, 1, 2, 1, 2, 1, 2, 1, 2, 1, 2, 1, 2, 1, 2, 1, 2, 1, 2, 1, 2, 1, 2, 1, 2, 1, 2, 1, 2, 1, 2, 1, 2, 1, 2, 1, 2, 1, 2, 1, 2, 1, 2, 1, 2, 1, 2, 1, 2, 1, 2, 1, 2, 1, 2, 1, 2, 1, 2, 1, 2, 1, 2, 1, 2, 1, 2, 1, 2, 1, 2, 1, 2, 1, 2, 1, 2, 1, 2, 1, 2, 1, 2, 1, 2, 1, 2, 1, 2, 1, 2, 1, 2, 1, 2, 1, 2, 1, 2, 1, 2, 1, 2, 1, 2, 1, 2, 1, 2, 1, 2, 1, 2, 1, 2, 1, 2, 1, 2, 1, 2, 1, 2, 1, 2, 1, 2, 1, 2, 1, 2, 1, 2, 1, 2, 1, 2, 1, 2, 1, 2, 1, 2, 1, 2, 1, 2, 1, 2, 1, 2, 1, 2, 1, 2, 1, 2, 1, 2, 1, 2, 1, 2, 1, 2, 1, 2, 1, 2, 1, 2, 1, 2, 1, 2, 1, 2, 1, 2, 1, 2, 1, 2, 1, 2, 1, 2, 1, 2, 1, 2, 1, 2, 1, 2, 1, 2, 1, 2, 1, 2, 1, 2, 1, 2, 1, 2, 1, 2, 1, 2, 1, 2, 1, 2, 1, 2, 1, 2, 1, 2, 1, 2, 1, 2, 1, 2, 1, 2, 1, 2, 1, 2, 1, 2, 1, 2, 1, 2, 1, 2], \"Freq\": [0.012089653148099948, 0.9792619049960958, 0.9831755759505024, 0.017248694314921095, 0.8344558765677881, 0.164155254406778, 0.9814545440627163, 0.011546524047796661, 0.6467025188921266, 0.35236996221686384, 0.01486332001878747, 0.9809791212399729, 0.01636023392522861, 0.9816140355137167, 0.3122985240789857, 0.687961966087041, 0.5451288180953797, 0.45461686339275065, 0.07365808400390254, 0.9259873417633463, 0.007389788055276107, 0.9902315994069983, 0.9879262677608835, 0.013350354969741669, 0.994525034409905, 0.0057486996208665035, 0.9420603442664882, 0.055743215637070305, 0.04114734084079661, 0.9587330415905609, 0.3623195466298106, 0.6385139551263055, 0.008411147413306338, 0.9925153947701479, 0.004922910577341836, 0.9944279366230507, 0.06080370857938118, 0.9348570194079857, 0.01288056195197906, 0.9789227083504086, 0.9945111967782023, 0.003539185753659083, 0.38975688241018785, 0.6103335795983711, 0.8796768729071281, 0.12017443618949837, 0.9743359222159963, 0.02448080206572855, 0.9861614431284014, 0.009482321568542321, 0.9855895610079595, 0.014710291955342679, 0.03396204968881795, 0.965492555439253, 0.03219977184094498, 0.9705931226341988, 0.9651117383751178, 0.033588575581500614, 0.9820001551937981, 0.013452056920462988, 0.014670713138602996, 0.9829377802864008, 0.8794518470287352, 0.120472855757361, 0.2893011540555279, 0.7105116426026956, 0.015166102897403149, 0.9857966883312047, 0.0044891023602115976, 0.9965807239669747, 0.23601173300066458, 0.7634466493586715, 0.9849853450182282, 0.009949346919376042, 0.9853994906166886, 0.015641261755820455, 0.10383892172048838, 0.8939176739415956, 0.3767629392707954, 0.623107938024777, 0.010587163563296942, 0.9846062113866156, 0.4441202186572066, 0.5558098578046625, 0.6608745066688174, 0.3377803034085067, 0.9910982024757558, 0.011524397703206462, 0.09854447837228963, 0.9024599598304419, 0.009639477916062896, 0.9928662253544783, 0.0058201743605364115, 0.9952498156517264, 0.9772618760836186, 0.013206241568697548, 0.97382279828765, 0.014981889204425383, 0.1339272197217809, 0.8682178381963728, 0.008109098264285734, 0.9893099882428595, 0.6916909509313838, 0.3086885235561547, 0.641784809606152, 0.3581594569538957, 0.7487006449389695, 0.2504743975795825, 0.9791403744205025, 0.019982456620826584, 0.9575837848730863, 0.04506276634696876, 0.6530919072956288, 0.34695507575080287, 0.7175767827527868, 0.2812125229706867, 0.31532172152103766, 0.6837682982983372, 0.9197739371907592, 0.08029772467538374, 0.996319449348102, 0.003788286879650578, 0.8798937976616763, 0.11921141774771098, 0.9779331387705194, 0.015280205293289365, 0.35794169224557415, 0.6420579104654985, 0.13459602736298348, 0.8660961760748502, 0.6802831259293866, 0.31858329488946624, 0.2608381033366866, 0.7386565758207055, 0.0033200138818884205, 0.9960041645665262, 0.9889654390509764, 0.013012703145407586, 0.01616058145629683, 0.9857954688341067, 0.5155475529795681, 0.48419045673394145, 0.00683092579912005, 0.9904842408724073, 0.8281075025526395, 0.17176730309845425, 0.4036164646368218, 0.5961169797413858, 0.9941785803630673, 0.004779704713283977, 0.9909221954174079, 0.005444627447348395, 0.010132376891575206, 0.982840558482795, 0.1321402020980166, 0.8656531606829251, 0.012141614633904734, 0.9834707853462835, 0.9465140886673916, 0.052910725453456674, 0.41332273261019115, 0.5877906197421311, 0.01416514360875524, 0.9773949090041115, 0.9012119765772298, 0.0986864354516388, 0.6349696335037686, 0.36538123307221165, 0.0045820221231595, 0.9942988007256115, 0.005741922039631803, 0.993352512856302, 0.9929287627643074, 0.009109438190498233, 0.9843022920238332, 0.016136103147931694, 0.013071245229376563, 0.9803433922032422, 0.07823666105195018, 0.9231926004130121, 0.0377373582376936, 0.9602061151590926, 0.9699212556012788, 0.01763493192002325, 0.054860707699625956, 0.9452921942089395, 0.9750902937834315, 0.015001389135129715, 0.9817439678897409, 0.01128441342402001, 0.01573845491548326, 0.9757842047599622, 0.01596778265140821, 0.9740347417359008, 0.016454675213339064, 0.9872805128003438, 0.7315379574703852, 0.26951398433119456, 0.986069778134516, 0.012173700964623654, 0.9802424768914326, 0.018778591511330125, 0.7192246226667031, 0.2789874870842371, 0.47827652955014743, 0.5219031048807352, 0.335443880490242, 0.6645185733762388, 0.9070538719740663, 0.091785213235471, 0.9751250038968923, 0.01741294649815879, 0.016623005548581093, 0.9807573273662844, 0.9907909718767347, 0.006928608194942201, 0.9900695492766614, 0.013027230911535018, 0.9635954729111531, 0.036884037240618305, 0.015194986124459527, 0.9876740980898693, 0.6528843252064298, 0.3466344613209395, 0.0028962571621176394, 0.9963124637684678, 0.9777703741458361, 0.013036938321944481, 0.5307164506155115, 0.46870014627392365, 0.9241028030092577, 0.07356042213009018, 0.5597967633703618, 0.44058078598593287, 0.014810667059097142, 0.9775040259004113, 0.39179779000967124, 0.609303180787099, 0.17874886414132618, 0.8209207093897943, 0.406501140154682, 0.5941170509953044, 0.7071501234564465, 0.2922614672088782, 0.47445571433280126, 0.5250124707780998, 0.7039927500244092, 0.29605563081711095, 0.05478243541071067, 0.9441913867846016], \"Term\": [\"afford\", \"afford\", \"afghanistan\", \"afghanistan\", \"ago\", \"ago\", \"america\", \"america\", \"believe\", \"believe\", \"benefits\", \"benefits\", \"billion\", \"billion\", \"britain\", \"britain\", \"british\", \"british\", \"business\", \"business\", \"businesses\", \"businesses\", \"cabinet\", \"cabinet\", \"cameron\", \"cameron\", \"campaign\", \"campaign\", \"care\", \"care\", \"change\", \"change\", \"child\", \"child\", \"children\", \"children\", \"communities\", \"communities\", \"companies\", \"companies\", \"conference\", \"conference\", \"country\", \"country\", \"crisis\", \"crisis\", \"david\", \"david\", \"david_cameron\", \"david_cameron\", \"east\", \"east\", \"economy\", \"economy\", \"education\", \"education\", \"election\", \"election\", \"elections\", \"elections\", \"environment\", \"environment\", \"europe\", \"europe\", \"every\", \"every\", \"fairness\", \"fairness\", \"families\", \"families\", \"future\", \"future\", \"general\", \"general\", \"general_election\", \"general_election\", \"generation\", \"generation\", \"get\", \"get\", \"global\", \"global\", \"government\", \"government\", \"great\", \"great\", \"happened\", \"happened\", \"health\", \"health\", \"homes\", \"homes\", \"investment\", \"investment\", \"iraq\", \"iraq\", \"ireland\", \"ireland\", \"jobs\", \"jobs\", \"justice\", \"justice\", \"know\", \"know\", \"labour\", \"labour\", \"last\", \"last\", \"leader\", \"leader\", \"leadership\", \"leadership\", \"let\", \"let\", \"like\", \"like\", \"make\", \"make\", \"members\", \"members\", \"minister\", \"minister\", \"months\", \"months\", \"mr\", \"mr\", \"must\", \"must\", \"need\", \"need\", \"never\", \"never\", \"new\", \"new\", \"nhs\", \"nhs\", \"northern\", \"northern\", \"nurses\", \"nurses\", \"one\", \"one\", \"parents\", \"parents\", \"party\", \"party\", \"people\", \"people\", \"prime\", \"prime\", \"prime_minister\", \"prime_minister\", \"private\", \"private\", \"public\", \"public\", \"public_services\", \"public_services\", \"remember\", \"remember\", \"right\", \"right\", \"rules\", \"rules\", \"said\", \"said\", \"say\", \"say\", \"school\", \"school\", \"schools\", \"schools\", \"scotland\", \"scotland\", \"secretary\", \"secretary\", \"sector\", \"sector\", \"service\", \"service\", \"services\", \"services\", \"shadow\", \"shadow\", \"society\", \"society\", \"south\", \"south\", \"speech\", \"speech\", \"st_century\", \"st_century\", \"talents\", \"talents\", \"teachers\", \"teachers\", \"tell\", \"tell\", \"terrorism\", \"terrorism\", \"thank\", \"thank\", \"think\", \"think\", \"time\", \"time\", \"together\", \"together\", \"trade\", \"trade\", \"trade_unions\", \"trade_unions\", \"training\", \"training\", \"union\", \"union\", \"unions\", \"unions\", \"united\", \"united\", \"university\", \"university\", \"us\", \"us\", \"values\", \"values\", \"wales\", \"wales\", \"want\", \"want\", \"war\", \"war\", \"way\", \"way\", \"welfare\", \"welfare\", \"work\", \"work\", \"working\", \"working\", \"world\", \"world\", \"would\", \"would\", \"year\", \"year\", \"years\", \"years\", \"young\", \"young\"]}, \"R\": 30, \"lambda.step\": 0.01, \"plot.opts\": {\"xlab\": \"PC1\", \"ylab\": \"PC2\"}, \"topic.order\": [1, 2]};\n",
       "\n",
       "function LDAvis_load_lib(url, callback){\n",
       "  var s = document.createElement('script');\n",
       "  s.src = url;\n",
       "  s.async = true;\n",
       "  s.onreadystatechange = s.onload = callback;\n",
       "  s.onerror = function(){console.warn(\"failed to load library \" + url);};\n",
       "  document.getElementsByTagName(\"head\")[0].appendChild(s);\n",
       "}\n",
       "\n",
       "if(typeof(LDAvis) !== \"undefined\"){\n",
       "   // already loaded: just create the visualization\n",
       "   !function(LDAvis){\n",
       "       new LDAvis(\"#\" + \"ldavis_el772819930137578966407354985\", ldavis_el772819930137578966407354985_data);\n",
       "   }(LDAvis);\n",
       "}else if(typeof define === \"function\" && define.amd){\n",
       "   // require.js is available: use it to load d3/LDAvis\n",
       "   require.config({paths: {d3: \"https://cdnjs.cloudflare.com/ajax/libs/d3/3.5.5/d3.min\"}});\n",
       "   require([\"d3\"], function(d3){\n",
       "      window.d3 = d3;\n",
       "      LDAvis_load_lib(\"https://cdn.rawgit.com/bmabey/pyLDAvis/files/ldavis.v1.0.0.js\", function(){\n",
       "        new LDAvis(\"#\" + \"ldavis_el772819930137578966407354985\", ldavis_el772819930137578966407354985_data);\n",
       "      });\n",
       "    });\n",
       "}else{\n",
       "    // require.js not available: dynamically load d3 & LDAvis\n",
       "    LDAvis_load_lib(\"https://cdnjs.cloudflare.com/ajax/libs/d3/3.5.5/d3.min.js\", function(){\n",
       "         LDAvis_load_lib(\"https://cdn.rawgit.com/bmabey/pyLDAvis/files/ldavis.v1.0.0.js\", function(){\n",
       "                 new LDAvis(\"#\" + \"ldavis_el772819930137578966407354985\", ldavis_el772819930137578966407354985_data);\n",
       "            })\n",
       "         });\n",
       "}\n",
       "</script>"
      ],
      "text/plain": [
       "<IPython.core.display.HTML object>"
      ]
     },
     "execution_count": 11,
     "metadata": {},
     "output_type": "execute_result"
    }
   ],
   "source": [
    "# Visualize the topics\n",
    "# Plotting tools\n",
    "import pyLDAvis\n",
    "import pyLDAvis.gensim  # don't skip this\n",
    "\n",
    "doc_topic, topic_term, doc_lengths, term_frequency, vocab = model.dtm_vis(time=0, corpus=corpus)\n",
    "\n",
    "vis_wrapper = pyLDAvis.prepare(topic_term_dists=topic_term, doc_topic_dists=doc_topic, doc_lengths=doc_lengths, vocab=vocab, term_frequency=term_frequency)\n",
    "\n",
    "pyLDAvis.display(vis_wrapper)"
   ]
  },
  {
   "cell_type": "code",
   "execution_count": 12,
   "metadata": {},
   "outputs": [],
   "source": [
    "def top_term_table(model, topic, slices, slice_labels, topn=10):\n",
    "    '''Returns a dataframe with the top n terms in the topic for each of\n",
    "    the given time slices.'''\n",
    "    data = {}\n",
    "    for time_slice in slices:\n",
    "        data[slice_labels[time_slice]] = [\n",
    "            term for p, term \n",
    "            in model.show_topic(topic, time=time_slice, topn=topn)\n",
    "        ]\n",
    "    return pd.DataFrame(data)"
   ]
  },
  {
   "cell_type": "code",
   "execution_count": 13,
   "metadata": {},
   "outputs": [
    {
     "data": {
      "text/plain": [
       "[2017,\n",
       " 2016,\n",
       " 2015,\n",
       " 2014,\n",
       " 2013,\n",
       " 2012,\n",
       " 2011,\n",
       " 2010,\n",
       " 2009,\n",
       " 2008,\n",
       " 2007,\n",
       " 2006,\n",
       " 2005,\n",
       " 2004,\n",
       " 2003,\n",
       " 2002,\n",
       " 2001,\n",
       " 2000,\n",
       " 1999,\n",
       " 1998,\n",
       " 1997,\n",
       " 1996,\n",
       " 1995,\n",
       " 1994,\n",
       " 1993,\n",
       " 1992,\n",
       " 1991,\n",
       " 1990,\n",
       " 1989,\n",
       " 1988,\n",
       " 1987,\n",
       " 1986,\n",
       " 1985,\n",
       " 1984,\n",
       " 1983,\n",
       " 1982,\n",
       " 1981,\n",
       " 1980,\n",
       " 1979,\n",
       " 1978,\n",
       " 1977,\n",
       " 1976,\n",
       " 1975,\n",
       " 1974,\n",
       " 1973,\n",
       " 1972,\n",
       " 1971,\n",
       " 1970,\n",
       " 1969,\n",
       " 1968,\n",
       " 1967,\n",
       " 1966,\n",
       " 1965,\n",
       " 1964,\n",
       " 1951,\n",
       " 1950,\n",
       " 1949,\n",
       " 1948,\n",
       " 1947,\n",
       " 1946,\n",
       " 1924]"
      ]
     },
     "execution_count": 13,
     "metadata": {},
     "output_type": "execute_result"
    }
   ],
   "source": [
    "years = df['Year'].unique().tolist()\n",
    "\n",
    "years"
   ]
  },
  {
   "cell_type": "code",
   "execution_count": 14,
   "metadata": {},
   "outputs": [
    {
     "name": "stdout",
     "output_type": "stream",
     "text": [
      "Topic 0\n",
      "         2015        1999        1967\n",
      "0       party      people  government\n",
      "1      people       party          us\n",
      "2      labour          us         one\n",
      "3          us  government       would\n",
      "4         one      labour       party\n",
      "5     country       would       great\n",
      "6  government         one      policy\n",
      "7        know         say      labour\n",
      "8         let     country        time\n",
      "9        said        know        work\n",
      "\n",
      "Topic 1\n",
      "         2015        1999        1967\n",
      "0      people      people      social\n",
      "1     britain  government         new\n",
      "2     country     britain  industrial\n",
      "3         new     country     britain\n",
      "4  government         new    industry\n",
      "5         one        want    economic\n",
      "6       every        make       world\n",
      "7      change       world          us\n",
      "8      labour      labour       years\n",
      "9        work         get      people\n",
      "\n"
     ]
    }
   ],
   "source": [
    "for topic in range(2):\n",
    "    print('Topic %d' % topic)\n",
    "    print(top_term_table(model, topic, [2, 18, 50], years))\n",
    "#     print('-'*80)\n",
    "    print()"
   ]
  },
  {
   "cell_type": "code",
   "execution_count": 40,
   "metadata": {},
   "outputs": [],
   "source": [
    "def term_distribution(model, term, topic):\n",
    "    '''Extracts the probability over each time slice of a term/topic pair.'''\n",
    "    word_index = model.id2word.token2id[term]\n",
    "    topic_slice = np.exp(model.lambda_[topic])\n",
    "    topic_slice = topic_slice / topic_slice.sum(axis=0)\n",
    "    return topic_slice[word_index]"
   ]
  },
  {
   "cell_type": "code",
   "execution_count": 41,
   "metadata": {},
   "outputs": [],
   "source": [
    "def plot_terms(x, model, topic, terms, title=None, hide_y=True):\n",
    "    '''Creates a plot of term probabilities over time in a given topic.'''\n",
    "    fig, ax = plt.subplots()\n",
    "    plt.style.use('fivethirtyeight')\n",
    "    \n",
    "    for term in terms:\n",
    "        ax.plot(x, term_distribution(model, term, topic), label=term)\n",
    "    leg = ax.legend(loc='center left', bbox_to_anchor=(1, 0.5))\n",
    "    if hide_y:\n",
    "        ax.set_yticklabels([])\n",
    "    ax.set_ylabel('Probability')\n",
    "    if title:\n",
    "        ax.set_title(title)\n",
    "    return fig, ax"
   ]
  },
  {
   "cell_type": "code",
   "execution_count": 43,
   "metadata": {},
   "outputs": [
    {
     "data": {
      "image/png": "[encoded data removed]",
      "text/plain": [
       "<Figure size 432x288 with 1 Axes>"
      ]
     },
     "metadata": {},
     "output_type": "display_data"
    }
   ],
   "source": [
    "plots = [\n",
    "    (None, ['people', 'government', 'world', 'socialism', 'britain']),\n",
    "#     ('Africa (colonialism)', None, ['colonial', 'portugal', 'racist', 'territory', 'independence']),\n",
    "#     ('Africa (apartheid)', None, ['apartheid', 'south']),\n",
    "]\n",
    "for title, terms in plots:\n",
    "    fig, ax = plot_terms(years, model, 1, terms, title=title)"
   ]
  },
  {
   "cell_type": "code",
   "execution_count": 45,
   "metadata": {},
   "outputs": [
    {
     "data": {
      "image/png": "[encoded data removed]",
      "text/plain": [
       "<Figure size 432x288 with 1 Axes>"
      ]
     },
     "metadata": {},
     "output_type": "display_data"
    }
   ],
   "source": [
    "plots = [\n",
    "    (None, ['people', 'government', 'world', 'socialism', 'britain']),\n",
    "#     ('Africa (colonialism)', None, ['colonial', 'portugal', 'racist', 'territory', 'independence']),\n",
    "#     ('Africa (apartheid)', None, ['apartheid', 'south']),\n",
    "]\n",
    "for title, terms in plots:\n",
    "    fig, ax = plot_terms(years, model, 0, terms, title=title)"
   ]
  },
  {
   "cell_type": "code",
   "execution_count": null,
   "metadata": {},
   "outputs": [],
   "source": []
  }
 ],
 "metadata": {
  "kernelspec": {
   "display_name": "Python [conda env:topicmodel1]",
   "language": "python",
   "name": "conda-env-topicmodel1-py"
  },
  "language_info": {
   "codemirror_mode": {
    "name": "ipython",
    "version": 3
   },
   "file_extension": ".py",
   "mimetype": "text/x-python",
   "name": "python",
   "nbconvert_exporter": "python",
   "pygments_lexer": "ipython3",
   "version": "3.6.8"
  }
 },
 "nbformat": 4,
 "nbformat_minor": 2
}
